{
 "cells": [
  {
   "cell_type": "code",
   "execution_count": 1,
   "metadata": {},
   "outputs": [
    {
     "name": "stdout",
     "output_type": "stream",
     "text": [
      "1\n"
     ]
    }
   ],
   "source": [
    "from gensim.models import word2vec\n",
    "print(word2vec.FAST_VERSION)"
   ]
  },
  {
   "cell_type": "code",
   "execution_count": 2,
   "metadata": {},
   "outputs": [],
   "source": [
    "corpus = []\n",
    "with open('Data/n_output.txt') as f:\n",
    "    for line in f:\n",
    "        sentence = []\n",
    "        for word in line.split():\n",
    "            sentence.append(word)\n",
    "        if len(sentence) > 1:\n",
    "            corpus.append(sentence)"
   ]
  },
  {
   "cell_type": "code",
   "execution_count": 3,
   "metadata": {},
   "outputs": [],
   "source": [
    "import multiprocessing\n",
    "#sg : {0, 1}, optional\n",
    "#Training algorithm: 1 for skip-gram; otherwise CBOW.\n",
    "model = word2vec.Word2Vec(corpus, size=100, window=10, \n",
    "                          min_count=3,\n",
    "                          sg=0, hs=1, negative=20,\n",
    "                          workers=multiprocessing.cpu_count(), \n",
    "                          iter=20)\n",
    "model.save(\"Model/n1_cbow.w2v\")"
   ]
  },
  {
   "cell_type": "code",
   "execution_count": 4,
   "metadata": {},
   "outputs": [],
   "source": [
    "import multiprocessing\n",
    "model = word2vec.Word2Vec(corpus, size=100, window=10, \n",
    "                          min_count=3,\n",
    "                          sg=1, hs=1, negative=20,\n",
    "                          workers=multiprocessing.cpu_count(), \n",
    "                          iter=20)\n",
    "model.save(\"Model/n1_skip_gram.w2v\")"
   ]
  },
  {
   "cell_type": "code",
   "execution_count": 5,
   "metadata": {},
   "outputs": [],
   "source": [
    "n_cbow = word2vec.Word2Vec.load('Model/n1_cbow.w2v')\n",
    "n_skip_gram = word2vec.Word2Vec.load('Model/n1_skip_gram.w2v')"
   ]
  },
  {
   "cell_type": "code",
   "execution_count": 13,
   "metadata": {},
   "outputs": [
    {
     "name": "stdout",
     "output_type": "stream",
     "text": [
      "干干 0.6808830499649048\n",
      "gg 0.6362199783325195\n",
      "kk 0.6033084392547607\n",
      "肝肝 0.5852782726287842\n",
      "干干的 0.5788768529891968\n",
      "心肝 0.5697094202041626\n",
      "xg 0.5672177672386169\n",
      "oo 0.5382167100906372\n",
      "qq 0.5254685282707214\n",
      "GG 0.5209400653839111\n"
     ]
    }
   ],
   "source": [
    "for i in n_cbow.wv.most_similar(positive=['钱包'],topn=10):\n",
    "    print(i[0], i[1])"
   ]
  },
  {
   "cell_type": "code",
   "execution_count": 14,
   "metadata": {},
   "outputs": [
    {
     "name": "stdout",
     "output_type": "stream",
     "text": [
      "oo 0.6746566295623779\n",
      "凯凯 0.651729941368103\n",
      "干干 0.6352114677429199\n",
      "kk 0.6232447028160095\n",
      "俊凯 0.6209718585014343\n",
      "圆圆 0.6157991886138916\n",
      "开开 0.6139837503433228\n",
      "千宝 0.5668829679489136\n",
      "鸟鸟 0.5621418952941895\n",
      "千千 0.559724748134613\n"
     ]
    }
   ],
   "source": [
    "for i in n_skip_gram.wv.most_similar(positive=['钱包'], topn=10):\n",
    "    print(i[0], i[1])"
   ]
  },
  {
   "cell_type": "code",
   "execution_count": 19,
   "metadata": {},
   "outputs": [],
   "source": [
    "#load stop words\n",
    "with open('Data/stop_words.txt') as f:\n",
    "    stop_words = [word.strip() for word in f]"
   ]
  },
  {
   "cell_type": "code",
   "execution_count": 27,
   "metadata": {},
   "outputs": [],
   "source": [
    "import numpy as np\n",
    "word_set = []\n",
    "for sent in corpus:\n",
    "    word_set += sent\n",
    "word_set = set(word_set)\n",
    "word_set = [word for word in word_set if word not in stop_words]"
   ]
  },
  {
   "cell_type": "code",
   "execution_count": 28,
   "metadata": {},
   "outputs": [
    {
     "data": {
      "text/plain": [
       "212841"
      ]
     },
     "execution_count": 28,
     "metadata": {},
     "output_type": "execute_result"
    }
   ],
   "source": [
    "f"
   ]
  },
  {
   "cell_type": "code",
   "execution_count": null,
   "metadata": {},
   "outputs": [],
   "source": []
  }
 ],
 "metadata": {
  "kernelspec": {
   "display_name": "Python 3",
   "language": "python",
   "name": "python3"
  },
  "language_info": {
   "codemirror_mode": {
    "name": "ipython",
    "version": 3
   },
   "file_extension": ".py",
   "mimetype": "text/x-python",
   "name": "python",
   "nbconvert_exporter": "python",
   "pygments_lexer": "ipython3",
   "version": "3.7.4"
  }
 },
 "nbformat": 4,
 "nbformat_minor": 4
}
