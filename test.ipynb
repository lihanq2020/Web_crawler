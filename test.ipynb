{
 "cells": [
  {
   "cell_type": "code",
   "execution_count": 1,
   "metadata": {},
   "outputs": [
    {
     "name": "stdout",
     "output_type": "stream",
     "text": [
      "1\n"
     ]
    }
   ],
   "source": [
    "from gensim.models import word2vec\n",
    "print(word2vec.FAST_VERSION)"
   ]
  },
  {
   "cell_type": "code",
   "execution_count": 2,
   "metadata": {},
   "outputs": [],
   "source": [
    "corpus = []\n",
    "with open('Data/output.txt') as f:\n",
    "    for line in f:\n",
    "        sentence = []\n",
    "        for word in line.split():\n",
    "            sentence.append(word)\n",
    "        if len(sentence) > 1:\n",
    "            corpus.append(sentence)"
   ]
  },
  {
   "cell_type": "code",
   "execution_count": 3,
   "metadata": {},
   "outputs": [],
   "source": [
    "import multiprocessing\n",
    "model = word2vec.Word2Vec(corpus, size=100, window=10, \n",
    "                          min_count=3,\n",
    "                          sg=0, hs=1, negative=20,\n",
    "                          workers=multiprocessing.cpu_count(), \n",
    "                          iter=10)\n",
    "model.save(\"Model/cbow.w2v\")"
   ]
  },
  {
   "cell_type": "code",
   "execution_count": 31,
   "metadata": {},
   "outputs": [],
   "source": [
    "cbow = word2vec.Word2Vec.load('Model/cbow.w2v')\n",
    "skip_gram = word2vec.Word2Vec.load('Model/skip_gram.w2v')"
   ]
  },
  {
   "cell_type": "code",
   "execution_count": 58,
   "metadata": {},
   "outputs": [
    {
     "name": "stdout",
     "output_type": "stream",
     "text": [
      "dw 0.7880733609199524\n",
      "wy 0.7865303754806519\n",
      "kk 0.761662483215332\n",
      "jk 0.7290863990783691\n",
      "xw 0.7280861139297485\n",
      "qx 0.7200890779495239\n",
      "干干 0.6971302032470703\n",
      "oo 0.6854872703552246\n",
      "队友 0.6705821752548218\n",
      "yyqx 0.6461449265480042\n"
     ]
    }
   ],
   "source": [
    "for i in cbow.wv.most_similar(positive=['gg', 'wjk'], topn=10):\n",
    "    print(i[0], i[1])"
   ]
  },
  {
   "cell_type": "code",
   "execution_count": 59,
   "metadata": {},
   "outputs": [
    {
     "name": "stdout",
     "output_type": "stream",
     "text": [
      "wy 0.7791867852210999\n",
      "dw 0.7766392230987549\n",
      "xw 0.7746391296386719\n",
      "g 0.7293045520782471\n",
      "qx 0.7091449499130249\n",
      "队友 0.6998821496963501\n",
      "干干 0.6927484273910522\n",
      "可是 0.6877326965332031\n",
      "肝 0.6864935755729675\n",
      "寄主 0.669664740562439\n"
     ]
    }
   ],
   "source": [
    "for i in skip_gram.wv.most_similar(positive=['gg', 'wjk'], topn=10):\n",
    "    print(i[0], i[1])"
   ]
  },
  {
   "cell_type": "code",
   "execution_count": null,
   "metadata": {},
   "outputs": [],
   "source": []
  }
 ],
 "metadata": {
  "kernelspec": {
   "display_name": "Python [conda env:acai] *",
   "language": "python",
   "name": "conda-env-acai-py"
  },
  "language_info": {
   "codemirror_mode": {
    "name": "ipython",
    "version": 3
   },
   "file_extension": ".py",
   "mimetype": "text/x-python",
   "name": "python",
   "nbconvert_exporter": "python",
   "pygments_lexer": "ipython3",
   "version": "3.7.4"
  }
 },
 "nbformat": 4,
 "nbformat_minor": 4
}
