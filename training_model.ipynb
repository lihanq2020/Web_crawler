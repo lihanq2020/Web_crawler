{
 "cells": [
  {
   "cell_type": "code",
   "execution_count": null,
   "metadata": {},
   "outputs": [],
   "source": [
    "def train_sent(read_f, write_f, length):\n",
    "    with open(read_f, 'r') as f:\n",
    "        count = 0\n",
    "        for sent in f:\n",
    "            if count >= length:\n",
    "                break\n",
    "            with open(write_f, 'a+') as w:\n",
    "                if len(sent) > 1:\n",
    "                    w.write(sent)\n",
    "                    count += 1"
   ]
  },
  {
   "cell_type": "code",
   "execution_count": null,
   "metadata": {},
   "outputs": [],
   "source": [
    "def txt_write_csv(csv_file, txt_file):\n",
    "    import pandas as pd\n",
    "    sent = []\n",
    "    label = []\n",
    "    with open(txt_file, 'r') as f:\n",
    "        for line in f:\n",
    "            sent.append(line)\n",
    "            label.append('n')\n",
    "    dataframe = pd.DataFrame({'sentence':sent, 'label':label})\n",
    "    dataframe.to_csv(csv_file, index=False, sep=',')"
   ]
  },
  {
   "cell_type": "code",
   "execution_count": 2,
   "metadata": {
    "pycharm": {
     "name": "#%%\n"
    }
   },
   "outputs": [],
   "source": [
    "import pandas as pd\n",
    "import numpy as np\n",
    "from gensim.models import word2vec\n",
    "def sent_vector(csv_file, length):\n",
    "    if length > 0:\n",
    "        csv_data = pd.read_csv(csv_file, low_memory = False, nrows=length)#防止弹出警告\n",
    "    else:\n",
    "        csv_data = pd.read_csv(csv_file, low_memory = False)\n",
    "    csv_df = pd.DataFrame(csv_data)\n",
    "    sentences = csv_df['sentence']\n",
    "    label = csv_df['label']\n",
    "    label.loc[label == 'n'] = 0\n",
    "    label.loc[label == 'p'] = 1\n",
    "    model = word2vec.Word2Vec.load('Model/n_cbow.w2v')\n",
    "    size = model.wv.syn0.shape[1]\n",
    "    sents_vec = []\n",
    "    for sent in sentences:\n",
    "        sents_vec.append(compute_sent_vec(sent, model, size))\n",
    "    return np.array(sents_vec), label, sentences\n",
    "        "
   ]
  },
  {
   "cell_type": "code",
   "execution_count": 2,
   "metadata": {},
   "outputs": [],
   "source": [
    "def compute_sent_vec(sent, model, size):\n",
    "    vec = np.zeros(size)\n",
    "    for word in sent.split():\n",
    "        if word in model.wv:\n",
    "            vec += model.wv[word]\n",
    "    vec /= len(sent.split())\n",
    "    return vec\n"
   ]
  },
  {
   "cell_type": "code",
   "execution_count": 3,
   "metadata": {},
   "outputs": [
    {
     "name": "stderr",
     "output_type": "stream",
     "text": [
      "/workspace/anaconda3/envs/acai/lib/python3.7/site-packages/pandas/core/ops/__init__.py:1115: FutureWarning: elementwise comparison failed; returning scalar instead, but in the future will perform elementwise comparison\n",
      "  result = method(y)\n",
      "/workspace/anaconda3/envs/acai/lib/python3.7/site-packages/ipykernel_launcher.py:15: DeprecationWarning: Call to deprecated `syn0` (Attribute will be removed in 4.0.0, use self.vectors instead).\n",
      "  from ipykernel import kernelapp as app\n"
     ]
    }
   ],
   "source": [
    "sents_vec, label, sentences = sent_vector('Data/training_data.csv', -1)"
   ]
  },
  {
   "cell_type": "code",
   "execution_count": null,
   "metadata": {},
   "outputs": [],
   "source": [
    "#self implemented logistic regression\n",
    "from logistic_regression import LogisticRegression\n",
    "l = LogisticRegression(sents_vec[:700], label[:700])\n",
    "cost = l.train(0.1,1000)\n",
    "pred_y = l.predict(sents_vec[300:], label[300:])"
   ]
  },
  {
   "cell_type": "code",
   "execution_count": null,
   "metadata": {},
   "outputs": [],
   "source": [
    "#sklearn logistic regression result\n",
    "from sklearn.linear_model import LogisticRegression\n",
    "label = np.array(label, dtype='int')\n",
    "clf = LogisticRegression(max_iter=1000).fit(sents_vec[:700], label[:700])\n",
    "test_accuracy = clf.score(sents_vec[300:], label[300:])*100\n",
    "pred = clf.predict(sents_vec[300:])\n",
    "print(\"正确率为%s%%\" % test_accuracy)"
   ]
  },
  {
   "cell_type": "code",
   "execution_count": 58,
   "metadata": {},
   "outputs": [],
   "source": [
    "class kMeans:\n",
    "    def train(self, m, sents_vec, sentences):\n",
    "        centroids = []\n",
    "        for i in range(m):\n",
    "            centroids.append(sents_vec[i])\n",
    "        while True:\n",
    "            clusters, sents_cluster = self.choose_cluster(m, sents_vec, centroids, sentences)\n",
    "            n_centroids = self.update_centroids(clusters)\n",
    "            flag = 0\n",
    "            for i in range(len(centroids)):\n",
    "                if i < len(n_centroids):\n",
    "                    if not all(centroids[i] == n_centroids[i]):\n",
    "                        flag = 1\n",
    "                else:\n",
    "                    flag = 1\n",
    "            if flag:\n",
    "                centroids = n_centroids\n",
    "            else:\n",
    "                break\n",
    "        return centroids, sents_cluster\n",
    "\n",
    "    def choose_cluster(self, m, sents_vec, centroids, sentences):\n",
    "        clusters = {}\n",
    "        sents_cluster = {}\n",
    "        for j in range(sents_vec.shape[0]):\n",
    "            vec = sents_vec[j]\n",
    "            min_dis = 2\n",
    "            min_c = -1\n",
    "            if any(vec) != 0:\n",
    "                for i in range(len(centroids)):\n",
    "                    sim = 1-self.cosine_simi(vec, centroids[i])\n",
    "                    if sim < min_dis:\n",
    "                        min_dis = sim\n",
    "                        min_c = i\n",
    "                if min_c not in clusters:\n",
    "                    clusters[min_c] = []\n",
    "                    sents_cluster[min_c] = []\n",
    "                clusters[min_c].append(vec)\n",
    "                sents_cluster[min_c].append(sentences[j])\n",
    "        return clusters, sents_cluster\n",
    "\n",
    "    def update_centroids(self, clusters):\n",
    "        centroids = []\n",
    "        for k, s_vec in clusters.items():\n",
    "            c = np.zeros(s_vec[0].shape[0])\n",
    "            for vec in s_vec:\n",
    "                c = c + vec\n",
    "            if all(c) != 0:\n",
    "                c = c / len(s_vec)\n",
    "                centroids.append(c)\n",
    "        return centroids\n",
    "\n",
    "    def cosine_simi(self, vec, cent):\n",
    "        vec_norm = np.sqrt(np.dot(vec, vec))\n",
    "        cent_norm = np.sqrt(np.dot(cent, cent))\n",
    "        return np.dot(vec, cent) / (vec_norm * cent_norm)"
   ]
  },
  {
   "cell_type": "code",
   "execution_count": 59,
   "metadata": {},
   "outputs": [],
   "source": [
    "#self implemented k means\n",
    "#from k_means import kMeans\n",
    "km = kMeans()\n",
    "centroids, sents_cluster = km.train(4, sents_vec[:10000], sentences[:10000])"
   ]
  },
  {
   "cell_type": "code",
   "execution_count": 1,
   "metadata": {},
   "outputs": [
    {
     "ename": "NameError",
     "evalue": "name 'sents_cluster' is not defined",
     "output_type": "error",
     "traceback": [
      "\u001b[0;31m---------------------------------------------------------------------------\u001b[0m",
      "\u001b[0;31mNameError\u001b[0m                                 Traceback (most recent call last)",
      "\u001b[0;32m<ipython-input-1-ddadd9f8b047>\u001b[0m in \u001b[0;36m<module>\u001b[0;34m\u001b[0m\n\u001b[0;32m----> 1\u001b[0;31m \u001b[0msents_cluster\u001b[0m\u001b[0;34m[\u001b[0m\u001b[0;36m1\u001b[0m\u001b[0;34m]\u001b[0m\u001b[0;34m\u001b[0m\u001b[0;34m\u001b[0m\u001b[0m\n\u001b[0m",
      "\u001b[0;31mNameError\u001b[0m: name 'sents_cluster' is not defined"
     ]
    }
   ],
   "source": [
    "sents_cluster[1]"
   ]
  },
  {
   "cell_type": "code",
   "execution_count": null,
   "metadata": {},
   "outputs": [],
   "source": []
  }
 ],
 "metadata": {
  "kernelspec": {
   "display_name": "Python 3",
   "language": "python",
   "name": "python3"
  },
  "language_info": {
   "codemirror_mode": {
    "name": "ipython",
    "version": 3
   },
   "file_extension": ".py",
   "mimetype": "text/x-python",
   "name": "python",
   "nbconvert_exporter": "python",
   "pygments_lexer": "ipython3",
   "version": "3.7.4"
  },
  "pycharm": {
   "stem_cell": {
    "cell_type": "raw",
    "metadata": {
     "collapsed": false
    },
    "source": []
   }
  }
 },
 "nbformat": 4,
 "nbformat_minor": 4
}
