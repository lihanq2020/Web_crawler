{
 "cells": [
  {
   "cell_type": "code",
   "execution_count": 1,
   "metadata": {},
   "outputs": [],
   "source": [
    "def train_sent(read_f = 'Data/n_output.txt', write_f = 'Data/train_sent.txt', length = 2000):\n",
    "    with open(read_f, 'r') as f:\n",
    "        count = 0\n",
    "        for sent in f:\n",
    "            if count >= length:\n",
    "                break\n",
    "            with open(write_f, 'a+') as w:\n",
    "                if len(sent) > 1:\n",
    "                    w.write(sent)\n",
    "                    count += 1"
   ]
  },
  {
   "cell_type": "code",
   "execution_count": 1,
   "metadata": {},
   "outputs": [],
   "source": [
    "def txt_write_csv(csv_file, txt_file):\n",
    "    import pandas as pd\n",
    "    sent = []\n",
    "    label = []\n",
    "    with open(txt_file, 'r') as f:\n",
    "        for line in f:\n",
    "            sent.append(line)\n",
    "            label.append('n')\n",
    "    dataframe = pd.DataFrame({'sentence':sent, 'label':label})\n",
    "    dataframe.to_csv(csv_file, index=False, sep=',')"
   ]
  },
  {
   "cell_type": "code",
   "execution_count": 2,
   "metadata": {},
   "outputs": [],
   "source": [
    "txt_write_csv('Data/training_data.csv', 'Data/n_output.txt')"
   ]
  },
  {
   "cell_type": "code",
   "execution_count": null,
   "metadata": {},
   "outputs": [],
   "source": []
  }
 ],
 "metadata": {
  "kernelspec": {
   "display_name": "Python [conda env:acai] *",
   "language": "python",
   "name": "conda-env-acai-py"
  },
  "language_info": {
   "codemirror_mode": {
    "name": "ipython",
    "version": 3
   },
   "file_extension": ".py",
   "mimetype": "text/x-python",
   "name": "python",
   "nbconvert_exporter": "python",
   "pygments_lexer": "ipython3",
   "version": "3.7.4"
  }
 },
 "nbformat": 4,
 "nbformat_minor": 4
}
