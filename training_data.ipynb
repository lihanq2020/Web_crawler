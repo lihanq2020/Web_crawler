{
 "cells": [
  {
   "cell_type": "code",
   "execution_count": 1,
   "metadata": {},
   "outputs": [],
   "source": [
    "def train_sent(read_f, write_f, length):\n",
    "    with open(read_f, 'r') as f:\n",
    "        count = 0\n",
    "        for sent in f:\n",
    "            if count >= length:\n",
    "                break\n",
    "            with open(write_f, 'a+') as w:\n",
    "                if len(sent) > 1:\n",
    "                    w.write(sent)\n",
    "                    count += 1"
   ]
  },
  {
   "cell_type": "code",
   "execution_count": 2,
   "metadata": {},
   "outputs": [],
   "source": [
    "def txt_write_csv(csv_file, txt_file):\n",
    "    import pandas as pd\n",
    "    sent = []\n",
    "    label = []\n",
    "    with open(txt_file, 'r') as f:\n",
    "        for line in f:\n",
    "            sent.append(line)\n",
    "            label.append('n')\n",
    "    dataframe = pd.DataFrame({'sentence':sent, 'label':label})\n",
    "    dataframe.to_csv(csv_file, index=False, sep=',')"
   ]
  },
  {
   "cell_type": "code",
   "execution_count": 3,
   "metadata": {
    "pycharm": {
     "name": "#%%\n"
    }
   },
   "outputs": [],
   "source": [
    "import pandas as pd\n",
    "import numpy as np\n",
    "from gensim.models import word2vec\n",
    "\n",
    "def sent_vector(csv_file, length):\n",
    "    csv_data = pd.read_csv(csv_file, low_memory = False, nrows=length)#防止弹出警告\n",
    "    csv_df = pd.DataFrame(csv_data)\n",
    "    sentence = csv_df['sentence']\n",
    "    label = csv_df['label']\n",
    "    label.loc[label == 'n'] = 0\n",
    "    label.loc[label == 'p'] = 1\n",
    "    model = word2vec.Word2Vec.load('Model/n_cbow.w2v')\n",
    "    size = model.wv.syn0.shape[1]\n",
    "    sents_vec = []\n",
    "    for sent in sentence:\n",
    "        sents_vec.append(compute_sent_vec(sent, model, size))\n",
    "    return np.array(sents_vec), label\n",
    "        "
   ]
  },
  {
   "cell_type": "code",
   "execution_count": 4,
   "metadata": {},
   "outputs": [],
   "source": [
    "def compute_sent_vec(sent, model, size):\n",
    "    vec = np.zeros(size)\n",
    "    for word in sent.split():\n",
    "        if word in model.wv:\n",
    "            vec += model.wv[word]\n",
    "    vec /= len(sent.split())\n",
    "    return vec\n"
   ]
  },
  {
   "cell_type": "code",
   "execution_count": 24,
   "metadata": {},
   "outputs": [
    {
     "name": "stderr",
     "output_type": "stream",
     "text": [
      "/opt/anaconda3/envs/nlp/lib/python3.7/site-packages/ipykernel_launcher.py:13: DeprecationWarning: Call to deprecated `syn0` (Attribute will be removed in 4.0.0, use self.vectors instead).\n",
      "  del sys.path[0]\n"
     ]
    }
   ],
   "source": [
    "sents_vec, label = sent_vector('Data/training_data.csv', 1000)"
   ]
  },
  {
   "cell_type": "code",
   "execution_count": 7,
   "metadata": {},
   "outputs": [
    {
     "name": "stdout",
     "output_type": "stream",
     "text": [
      "cost value is 0.6931471805599466\n",
      "cost value is 0.37685147994687607\n",
      "cost value is 0.3481076585398094\n",
      "cost value is 0.33534839187390036\n",
      "cost value is 0.32823459670139676\n",
      "cost value is 0.32380143551805\n",
      "cost value is 0.3208476839241919\n",
      "cost value is 0.3187895672594366\n",
      "cost value is 0.3173087897238604\n",
      "cost value is 0.31621741425943944\n"
     ]
    }
   ],
   "source": [
    "#self implemented logistic regression\n",
    "from logistic_regression import LogisticRegression\n",
    "l = LogisticRegression(sents_vec[:500], label[:500])\n",
    "cost = l.train(0.5,1000)"
   ]
  },
  {
   "cell_type": "code",
   "execution_count": 37,
   "metadata": {},
   "outputs": [
    {
     "name": "stdout",
     "output_type": "stream",
     "text": [
      "正确率为73.6%\n"
     ]
    }
   ],
   "source": [
    "#sklearn logistic regression result\n",
    "from sklearn.linear_model import LogisticRegression\n",
    "label = np.array(label, dtype='int')\n",
    "clf = LogisticRegression(max_iter=1000).fit(sents_vec[:500], label[:500])\n",
    "test_accuracy = clf.score(sents_vec[500:], label[500:])*100\n",
    "print(\"正确率为%s%%\" % test_accuracy)"
   ]
  },
  {
   "cell_type": "code",
   "execution_count": null,
   "metadata": {},
   "outputs": [],
   "source": []
  }
 ],
 "metadata": {
  "kernelspec": {
   "display_name": "Python 3",
   "language": "python",
   "name": "python3"
  },
  "language_info": {
   "codemirror_mode": {
    "name": "ipython",
    "version": 3
   },
   "file_extension": ".py",
   "mimetype": "text/x-python",
   "name": "python",
   "nbconvert_exporter": "python",
   "pygments_lexer": "ipython3",
   "version": "3.7.6"
  },
  "pycharm": {
   "stem_cell": {
    "cell_type": "raw",
    "metadata": {
     "collapsed": false
    },
    "source": []
   }
  }
 },
 "nbformat": 4,
 "nbformat_minor": 4
}
